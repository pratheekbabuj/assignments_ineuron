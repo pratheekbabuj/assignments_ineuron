{
 "cells": [
  {
   "cell_type": "markdown",
   "metadata": {},
   "source": [
    "###Write a Python program to find words which are greater than given length k?"
   ]
  },
  {
   "cell_type": "code",
   "execution_count": 1,
   "metadata": {},
   "outputs": [
    {
     "name": "stdout",
     "output_type": "stream",
     "text": [
      "pratheek\n",
      "learns\n",
      "science\n"
     ]
    }
   ],
   "source": [
    "s = ' pratheek learns data science'\n",
    "def func1(n,s):\n",
    "    l = s.split(\" \")\n",
    "    for word in l:\n",
    "        if len(word) > n :\n",
    "            print(word)\n",
    "func1(5,s)"
   ]
  },
  {
   "cell_type": "markdown",
   "metadata": {},
   "source": [
    "### Write a Python program for removing i-th character from a string?"
   ]
  },
  {
   "cell_type": "code",
   "execution_count": 7,
   "metadata": {},
   "outputs": [
    {
     "data": {
      "text/plain": [
       "'prtheek is good'"
      ]
     },
     "execution_count": 7,
     "metadata": {},
     "output_type": "execute_result"
    }
   ],
   "source": [
    "def func2(k,s):\n",
    "    return s[:k-1] + s[k:]\n",
    "st = 'pratheek is good'\n",
    "func2(3,st)"
   ]
  },
  {
   "cell_type": "code",
   "execution_count": 4,
   "metadata": {},
   "outputs": [],
   "source": [
    "3.Write a Python program to split and join a string?"
   ]
  },
  {
   "cell_type": "code",
   "execution_count": 10,
   "metadata": {},
   "outputs": [
    {
     "data": {
      "text/plain": [
       "'Hi:-:-how:-:-are:-:-you:-:-doing'"
      ]
     },
     "execution_count": 10,
     "metadata": {},
     "output_type": "execute_result"
    }
   ],
   "source": [
    "s = 'Hi how are you doing'\n",
    "l = s.split(' ')\n",
    "(':-:-').join(l)"
   ]
  },
  {
   "cell_type": "code",
   "execution_count": null,
   "metadata": {},
   "outputs": [],
   "source": [
    "4.Write a Python to check if a given string is binary string or not?"
   ]
  },
  {
   "cell_type": "code",
   "execution_count": 11,
   "metadata": {},
   "outputs": [
    {
     "name": "stdout",
     "output_type": "stream",
     "text": [
      "True\n",
      "False\n",
      "True\n",
      "False\n"
     ]
    }
   ],
   "source": [
    "def is_binary_string(s):\n",
    "    for c in s:\n",
    "        if c != '0' and c != '1':\n",
    "            return False\n",
    "    return True\n",
    "\n",
    "# Test the function\n",
    "print(is_binary_string('10101'))  # True\n",
    "print(is_binary_string('12345'))  # False\n",
    "print(is_binary_string('01010101'))  # True\n",
    "print(is_binary_string('0101010101a'))  # False"
   ]
  },
  {
   "cell_type": "code",
   "execution_count": null,
   "metadata": {},
   "outputs": [],
   "source": [
    "5.Write a Python program to find uncommon words from two Strings?"
   ]
  },
  {
   "cell_type": "code",
   "execution_count": 22,
   "metadata": {},
   "outputs": [
    {
     "data": {
      "text/plain": [
       "['back', 'good']"
      ]
     },
     "execution_count": 22,
     "metadata": {},
     "output_type": "execute_result"
    }
   ],
   "source": [
    "def uncom(A,B):\n",
    "    a=A.split()\n",
    "    b=B.split()\n",
    "    c=[]\n",
    "    for i in a:\n",
    "        if i not in b:\n",
    "            c.append(i)\n",
    "    for i in b:\n",
    "        if i not in a:\n",
    "            c.append(i)\n",
    "            \n",
    "            \n",
    "    x=list(set(c))\n",
    "    return x\n",
    "\n",
    "\n",
    "A=\" pratheek is back\"\n",
    "B=\"pratheek is good\"\n",
    "\n",
    "\n",
    "uncom(A,B)\n",
    "            "
   ]
  },
  {
   "cell_type": "code",
   "execution_count": null,
   "metadata": {},
   "outputs": [],
   "source": [
    "\n",
    "Write a Python to find all duplicate characters in string?"
   ]
  },
  {
   "cell_type": "code",
   "execution_count": 24,
   "metadata": {},
   "outputs": [],
   "source": [
    "def find_duplicate_chars(s):\n",
    "    # Create an empty list to store the duplicate characters\n",
    "    duplicates = []\n",
    "    \n",
    "    # For each character in the string,\n",
    "    for c in s:\n",
    "        # If the character appears more than once in the string,\n",
    "        if s.count(c) > 1:\n",
    "            # If it's not already in the list of duplicates,\n",
    "            if c not in duplicates:\n",
    "                # Add it to the list\n",
    "                duplicates.append(c)\n",
    "    \n",
    "    return duplicates"
   ]
  },
  {
   "cell_type": "code",
   "execution_count": null,
   "metadata": {},
   "outputs": [],
   "source": [
    "Write a Python Program to check if a string contains any special character?\n"
   ]
  },
  {
   "cell_type": "code",
   "execution_count": 25,
   "metadata": {},
   "outputs": [
    {
     "name": "stdout",
     "output_type": "stream",
     "text": [
      "Given string does not contain only alphanumeric.\n"
     ]
    }
   ],
   "source": [
    "str = 'Python Examples 125'\n",
    "\n",
    "if str.isalnum():\n",
    "    print('Given string contains only alphanumeric.')\n",
    "else:\n",
    "    print('Given string does not contain only alphanumeric.')"
   ]
  },
  {
   "cell_type": "code",
   "execution_count": null,
   "metadata": {},
   "outputs": [],
   "source": []
  },
  {
   "cell_type": "code",
   "execution_count": null,
   "metadata": {},
   "outputs": [],
   "source": []
  }
 ],
 "metadata": {
  "kernelspec": {
   "display_name": "Python 3",
   "language": "python",
   "name": "python3"
  },
  "language_info": {
   "codemirror_mode": {
    "name": "ipython",
    "version": 3
   },
   "file_extension": ".py",
   "mimetype": "text/x-python",
   "name": "python",
   "nbconvert_exporter": "python",
   "pygments_lexer": "ipython3",
   "version": "3.7.4"
  }
 },
 "nbformat": 4,
 "nbformat_minor": 2
}
