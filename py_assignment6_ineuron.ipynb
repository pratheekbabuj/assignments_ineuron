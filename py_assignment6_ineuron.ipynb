{
 "cells": [
  {
   "cell_type": "raw",
   "metadata": {},
   "source": [
    "1.What are escape characters, and how do you use them?\n",
    "\n",
    "To insert characters that are illegal in a string, use an escape character.\n",
    "\n",
    "An escape character is a backslash \\ followed by the character you want to insert."
   ]
  },
  {
   "cell_type": "raw",
   "metadata": {},
   "source": [
    "2.What do the escape characters n and t stand for?\n",
    "\n",
    "\\n: This represents a newline character. When a string contains this character, it is printed on a new line.\n",
    "\n",
    "\\t: This represents a tab character. When a string contains this character, it is printed with an indentation.\n",
    "\n"
   ]
  },
  {
   "cell_type": "raw",
   "metadata": {},
   "source": [
    "3.What is the way to include backslash characters in a string?\n",
    "\n",
    "\n",
    "ans \\\\: This represents a backslash character. When a string contains this character, it is printed as a backslash.\n",
    "\n",
    "ex:  txt = \"This will insert one \\\\ (backslash).\""
   ]
  },
  {
   "cell_type": "code",
   "execution_count": null,
   "metadata": {},
   "outputs": [],
   "source": [
    "4.The string \"Howl's Moving Castle\" is a correct value. Why isn't the single quote character in the\n",
    "word Howl's not escaped a problem?\n",
    "\n",
    "Because it is wrapped in double quotes"
   ]
  },
  {
   "cell_type": "code",
   "execution_count": null,
   "metadata": {},
   "outputs": [],
   "source": [
    "5. How do you write a string of newlines if you dont want to use the n character?\n",
    "\\n: This represents a newline character. When a string contains this character, it is printed on a new line."
   ]
  },
  {
   "cell_type": "code",
   "execution_count": null,
   "metadata": {},
   "outputs": [],
   "source": [
    "6.What are the values of the given expressions?\n",
    "'Hello, world!'[1] 'Hello, world!'[0:5] 'Hello, world!'[:5] 'Hello, world!'[3:]"
   ]
  },
  {
   "cell_type": "code",
   "execution_count": 1,
   "metadata": {},
   "outputs": [
    {
     "name": "stdout",
     "output_type": "stream",
     "text": [
      "e\n",
      "Hello\n",
      "Hello\n",
      "lo, world!\n"
     ]
    }
   ],
   "source": [
    "print('Hello, world!'[1]) #e\n",
    "print('Hello, world!'[0:5]) # Hello\n",
    "print('Hello, world!'[:5])  # Hello\n",
    "print('Hello, world!'[3:]) # lo, world!"
   ]
  },
  {
   "cell_type": "code",
   "execution_count": null,
   "metadata": {},
   "outputs": [],
   "source": [
    "8.What are the values of the following expressions?\n",
    "'Hello'.upper()\n",
    "\n",
    "'Hello'.upper().isupper()\n",
    "\n",
    "'Hello'.upper().lower()"
   ]
  },
  {
   "cell_type": "code",
   "execution_count": 2,
   "metadata": {},
   "outputs": [
    {
     "name": "stdout",
     "output_type": "stream",
     "text": [
      "HELLO\n",
      "True\n",
      "hello\n"
     ]
    }
   ],
   "source": [
    "print('Hello'.upper()) #HELLO\n",
    "print('Hello'.upper().isupper()) #True\n",
    "print('Hello'.upper().lower()) #hello"
   ]
  },
  {
   "cell_type": "raw",
   "metadata": {},
   "source": [
    "9.What are the methods for right-justifying, left-justifying, and centering a string?\n",
    "In Python, you can use the ljust(), rjust(), and center() methods to right-justify, left-justify, and center a string, respectively. These methods are available on the built-in str class, and they allow you to specify the width of the resulting string, as well as the character to use for padding."
   ]
  },
  {
   "cell_type": "code",
   "execution_count": 3,
   "metadata": {},
   "outputs": [
    {
     "name": "stdout",
     "output_type": "stream",
     "text": [
      "-----------data\n",
      "pratheek---------\n",
      "-------dogood------\n"
     ]
    }
   ],
   "source": [
    "# Right-justify a string using the '-' character for padding\n",
    "s = \"data\"\n",
    "s = s.rjust(15, '-')\n",
    "print(s)\n",
    "\n",
    "\n",
    "# Left-justify a string using the '-' character for padding\n",
    "s = \"pratheek\"\n",
    "s = s.ljust(17, '-')\n",
    "print(s)\n",
    "\n",
    "\n",
    "# Center a string using the '-' character for padding\n",
    "s = \"dogood\"\n",
    "s = s.center(19, '-')\n",
    "print(s)"
   ]
  },
  {
   "cell_type": "code",
   "execution_count": null,
   "metadata": {},
   "outputs": [],
   "source": [
    "8.What are the values of the following expressions?\n",
    "'Remember, remember, the fifth of July.'.split()\n",
    "\n",
    "'-'.join('There can only one.'.split())"
   ]
  },
  {
   "cell_type": "code",
   "execution_count": 4,
   "metadata": {},
   "outputs": [
    {
     "name": "stdout",
     "output_type": "stream",
     "text": [
      "['Remember,', 'remember,', 'the', 'fifth', 'of', 'July.']\n",
      "There_can_only_one\n"
     ]
    }
   ],
   "source": [
    "print('Remember, remember, the fifth of July.'.split()) # ['Remember,', 'remember,', 'the', 'fifth', 'of', 'July.']\n",
    "print('_'.join('There can only one'.split()))  #There_can_only_one"
   ]
  },
  {
   "cell_type": "code",
   "execution_count": null,
   "metadata": {},
   "outputs": [],
   "source": []
  }
 ],
 "metadata": {
  "kernelspec": {
   "display_name": "Python 3",
   "language": "python",
   "name": "python3"
  },
  "language_info": {
   "codemirror_mode": {
    "name": "ipython",
    "version": 3
   },
   "file_extension": ".py",
   "mimetype": "text/x-python",
   "name": "python",
   "nbconvert_exporter": "python",
   "pygments_lexer": "ipython3",
   "version": "3.7.4"
  }
 },
 "nbformat": 4,
 "nbformat_minor": 2
}
