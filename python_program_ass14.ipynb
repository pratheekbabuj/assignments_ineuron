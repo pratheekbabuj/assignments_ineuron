{
 "cells": [
  {
   "cell_type": "markdown",
   "metadata": {},
   "source": [
    "# 1.Define a class with a generator which can iterate the numbers, which are divisible by 7, between a given range 0 and n.\n",
    "\n"
   ]
  },
  {
   "cell_type": "code",
   "execution_count": 1,
   "metadata": {},
   "outputs": [],
   "source": [
    "class generatorr:\n",
    "    def __init__(self,n):\n",
    "        self.n=n\n",
    "    def get_numbers(self):\n",
    "        for ele in range(0,self.n+1):\n",
    "            if ele%7 == 0:\n",
    "                yield ele   \n",
    "                \n",
    "    "
   ]
  },
  {
   "cell_type": "code",
   "execution_count": 3,
   "metadata": {},
   "outputs": [
    {
     "name": "stdout",
     "output_type": "stream",
     "text": [
      "0 7 14 21 28 35 42 49 56 63 70 77 84 91 98 "
     ]
    }
   ],
   "source": [
    "output = generatorr(100)\n",
    "for ele in output.get_numbers():\n",
    "    print(ele,end=' ')"
   ]
  },
  {
   "cell_type": "code",
   "execution_count": null,
   "metadata": {},
   "outputs": [],
   "source": []
  },
  {
   "cell_type": "markdown",
   "metadata": {},
   "source": [
    "# Question 2: Write a program to compute the frequency of the words from the input. The output should output after sorting the key alphanumerically. Suppose the following input is supplied to the program: New to Python or choosing between Python 2 and Python 3? Read Python 2 or Python 3. Then, the output should be: 2:2 3.:1 3?:1 New:1 Python:5 Read:1 and:1 between:1 choosing:1 or:2 to:1"
   ]
  },
  {
   "cell_type": "code",
   "execution_count": 4,
   "metadata": {},
   "outputs": [
    {
     "name": "stdout",
     "output_type": "stream",
     "text": [
      "2:2\n",
      "3.:1\n",
      "3?:1\n",
      "New:1\n",
      "Python:5\n",
      "Read:1\n",
      "and:1\n",
      "between:1\n",
      "choosing:1\n",
      "or:2\n",
      "to:1\n"
     ]
    }
   ],
   "source": [
    "def word_frequency(input_string):\n",
    "    word_count = {}\n",
    "    words = input_string.split()\n",
    "\n",
    "    for word in words:\n",
    "        if word in word_count:\n",
    "            word_count[word] += 1\n",
    "        else:\n",
    "            word_count[word] = 1\n",
    "\n",
    "    sorted_words = sorted(word_count.items())\n",
    "\n",
    "    for word, count in sorted_words:\n",
    "        print(f\"{word}:{count}\")\n",
    "\n",
    "\n",
    "input_str = \"New to Python or choosing between Python 2 and Python 3? Read Python 2 or Python 3.\"\n",
    "word_frequency(input_str)\n"
   ]
  },
  {
   "cell_type": "markdown",
   "metadata": {},
   "source": [
    "# efine a class Person and its two child classes: Male and Female. All classes have a method \"getGender\" which can print \"Male\" for Male class and \"Female\" for Female class."
   ]
  },
  {
   "cell_type": "code",
   "execution_count": 5,
   "metadata": {},
   "outputs": [
    {
     "name": "stdout",
     "output_type": "stream",
     "text": [
      "Male\n",
      "Female\n"
     ]
    }
   ],
   "source": [
    "class Person :\n",
    "    pass \n",
    "class Male(Person):\n",
    "    def getGender(self):\n",
    "        return \"Male\"\n",
    "class Female(Person):\n",
    "    def getGender(self):\n",
    "        return \"Female\" \n",
    "m = Male()\n",
    "print(m.getGender())\n",
    "f = Female() \n",
    "print(f.getGender()) "
   ]
  },
  {
   "cell_type": "markdown",
   "metadata": {},
   "source": [
    "# Question 4: Please write a program to generate all sentences where subject is in [\"I\", \"You\"] and verb is in [\"Play\", \"Love\"] and the object is in [\"Hockey\",\"Football\"]."
   ]
  },
  {
   "cell_type": "code",
   "execution_count": null,
   "metadata": {},
   "outputs": [],
   "source": [
    "def generateSentences():\n",
    "    subject = ['I','You']\n",
    "    verb = ['Play','Love']\n",
    "    object = ['Hockey','Football']\n",
    "    for s in subject:\n",
    "        for v in verb:\n",
    "            for o in object:\n",
    "                print(f'{s} {v} {o}')\n",
    "                \n",
    "generateSentences()"
   ]
  },
  {
   "cell_type": "markdown",
   "metadata": {},
   "source": [
    "# Question 5: Please write a program to compress and decompress the string \"hello world!hello world!hello world!hello world!\"."
   ]
  },
  {
   "cell_type": "code",
   "execution_count": null,
   "metadata": {},
   "outputs": [],
   "source": [
    "def compress(in_string):\n",
    "    output = in_string[0]\n",
    "    count = 1\n",
    "    for ele in range(len(in_string)-1):\n",
    "        if in_string[ele] == in_string[ele+1]:\n",
    "            count +=1\n",
    "        else:\n",
    "            if count > 1:\n",
    "                output += str(count)\n",
    "            output += in_string[ele+1]\n",
    "            count = 1\n",
    "    if count > 1:\n",
    "        output += str(count)            \n",
    "    print(output)\n",
    "\n",
    "\n",
    "def decompress(in_string):\n",
    "    output = ''\n",
    "    for ele in range(len(in_string)):\n",
    "        if in_string[ele].isdigit():\n",
    "            output += output[-1]*(int(in_string[ele])-1)\n",
    "        else:\n",
    "            output += in_string[ele]\n",
    "    print(output)\n",
    "compress(\"hello world!hello world!hello world!hello world!\")\n",
    "decompress(\"hel2o world!hel2o world!hel2o world!hel2o world!\")"
   ]
  },
  {
   "cell_type": "code",
   "execution_count": null,
   "metadata": {},
   "outputs": [],
   "source": [
    "6.Please write a binary search function which searches an item in a sorted list. The function should return the index of element to be searched in the list ?"
   ]
  },
  {
   "cell_type": "code",
   "execution_count": null,
   "metadata": {},
   "outputs": [],
   "source": [
    "def binary_search(arr, target):\n",
    "    low = 0\n",
    "    high = len(arr) - 1\n",
    "\n",
    "    while low <= high:\n",
    "        mid = (low + high) // 2\n",
    "        if arr[mid] == target:\n",
    "            return mid\n",
    "        elif arr[mid] < target:\n",
    "            low = mid + 1\n",
    "        else:\n",
    "            high = mid - 1\n",
    "\n",
    "    return -1  # If the target is not found in the list\n",
    "\n",
    "\n",
    "# Example usage\n",
    "sorted_list = [1, 3, 5, 7, 9, 11, 13, 15]\n",
    "target_element = 9\n",
    "\n",
    "index = binary_search(sorted_list, target_element)\n",
    "if index != -1:\n",
    "    print(f\"The element {target_element} is found at index {index}.\")\n",
    "else:\n",
    "    print(f\"The element {target_element} is not found in the list.\")\n"
   ]
  },
  {
   "cell_type": "code",
   "execution_count": null,
   "metadata": {},
   "outputs": [],
   "source": []
  },
  {
   "cell_type": "code",
   "execution_count": null,
   "metadata": {},
   "outputs": [],
   "source": []
  }
 ],
 "metadata": {
  "kernelspec": {
   "display_name": "Python 3",
   "language": "python",
   "name": "python3"
  },
  "language_info": {
   "codemirror_mode": {
    "name": "ipython",
    "version": 3
   },
   "file_extension": ".py",
   "mimetype": "text/x-python",
   "name": "python",
   "nbconvert_exporter": "python",
   "pygments_lexer": "ipython3",
   "version": "3.7.4"
  }
 },
 "nbformat": 4,
 "nbformat_minor": 2
}
