{
 "cells": [
  {
   "cell_type": "code",
   "execution_count": 1,
   "metadata": {},
   "outputs": [
    {
     "data": {
      "text/plain": [
       "'C:\\\\Users\\\\prath'"
      ]
     },
     "execution_count": 1,
     "metadata": {},
     "output_type": "execute_result"
    }
   ],
   "source": [
    "pwd()"
   ]
  },
  {
   "cell_type": "code",
   "execution_count": 2,
   "metadata": {},
   "outputs": [
    {
     "data": {
      "text/plain": [
       "dict"
      ]
     },
     "execution_count": 2,
     "metadata": {},
     "output_type": "execute_result"
    }
   ],
   "source": [
    "#1.What does an empty dictionary's code look like?\n",
    "\n",
    "dict={}   #assigning empty dictionary\n",
    "type(dict)"
   ]
  },
  {
   "cell_type": "code",
   "execution_count": 4,
   "metadata": {},
   "outputs": [
    {
     "data": {
      "text/plain": [
       "42"
      ]
     },
     "execution_count": 4,
     "metadata": {},
     "output_type": "execute_result"
    }
   ],
   "source": [
    "#2What is the value of a dictionary value with the key 'foo' and the value 42?\n",
    "\n",
    "d = {'foo':42} \n",
    "d.get(\"foo\") #the value is 42"
   ]
  },
  {
   "cell_type": "code",
   "execution_count": null,
   "metadata": {},
   "outputs": [],
   "source": [
    "#3.What is the most significant distinction between a dictionary and a list?\n",
    "\n",
    "\n",
    "List contains ordered collection of daata where as dictionary stores unordered collection of data.\n",
    "List can contain duplicate values on the other hand duplicates are not allowed in dictionary\n",
    "Elements in a list are stored in square brackets where as elements are stored as key value pairs in a flower bracket in case of dictionary\n",
    "\n",
    "\n",
    "list=[\"1\",2,3,4,\"prath\"]\n",
    "dict={1:\"apple\",2=\"were\"}\n"
   ]
  },
  {
   "cell_type": "code",
   "execution_count": null,
   "metadata": {},
   "outputs": [],
   "source": [
    "#4 What happens if you try to access spam['foo'] if spam is {'bar': 100}?\n",
    "\n",
    "ans: we get key error as there is no key named foo in the dictionary\n",
    "\n"
   ]
  },
  {
   "cell_type": "code",
   "execution_count": null,
   "metadata": {},
   "outputs": [],
   "source": [
    "5.if a dictionary is stored in spam,what is the difference between the expressions 'cat' in spam and 'cat' in spam.keys() The ans:operator checks whether a value exits as a key in the dictionary or not the output will be same"
   ]
  },
  {
   "cell_type": "code",
   "execution_count": null,
   "metadata": {},
   "outputs": [],
   "source": [
    "6.If a dictionary is stored in spam, what is the difference between the expressions 'cat' in spam and\n",
    "'cat' in spam.values()?\n",
    "\n",
    "The expression 'cat' in spam checks if the key 'cat' is present in the dictionary spam. It returns True if the key exists in the dictionary, and False if it does not.\n",
    "on the other hand spam.values checks \"cat\" is present in values and gives boolean output if true or false"
   ]
  },
  {
   "cell_type": "code",
   "execution_count": null,
   "metadata": {},
   "outputs": [],
   "source": [
    "7.What is a shortcut for the following code?\n",
    "if 'color' not in spam: spam['color'] = 'black'"
   ]
  },
  {
   "cell_type": "code",
   "execution_count": 6,
   "metadata": {},
   "outputs": [
    {
     "data": {
      "text/plain": [
       "{1: 'cat', 2: 'dog', 'color': 'black'}"
      ]
     },
     "execution_count": 6,
     "metadata": {},
     "output_type": "execute_result"
    }
   ],
   "source": [
    "spam={1:\"cat\",2:\"dog\"}\n",
    "spam.setdefault('color','black')\n",
    "spam"
   ]
  },
  {
   "cell_type": "code",
   "execution_count": null,
   "metadata": {},
   "outputs": [],
   "source": [
    "#8How do you \"pretty print\" dictionary values using which module and function?\n",
    "To prettyprint dictionary values, you can use the pprint function from the pprint module."
   ]
  },
  {
   "cell_type": "code",
   "execution_count": 7,
   "metadata": {},
   "outputs": [
    {
     "name": "stdout",
     "output_type": "stream",
     "text": [
      "{'babu': 'surname', 'height': 6, 'prath': 'name'}\n"
     ]
    }
   ],
   "source": [
    "import pprint\n",
    "\n",
    "d = {'prath': \"name\", 'babu': \"surname\", 'height': 6}\n",
    "\n",
    "pprint.pprint(d)"
   ]
  },
  {
   "cell_type": "code",
   "execution_count": null,
   "metadata": {},
   "outputs": [],
   "source": []
  }
 ],
 "metadata": {
  "kernelspec": {
   "display_name": "Python 3",
   "language": "python",
   "name": "python3"
  },
  "language_info": {
   "codemirror_mode": {
    "name": "ipython",
    "version": 3
   },
   "file_extension": ".py",
   "mimetype": "text/x-python",
   "name": "python",
   "nbconvert_exporter": "python",
   "pygments_lexer": "ipython3",
   "version": "3.7.4"
  }
 },
 "nbformat": 4,
 "nbformat_minor": 2
}
