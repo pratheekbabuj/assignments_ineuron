{
 "cells": [
  {
   "cell_type": "markdown",
   "metadata": {},
   "source": [
    "1.What are the two values of the Boolean data type? How do you write them?\n",
    "\n",
    "Ans.. The two values of boolean data type are 1. True and 2.False\n",
    "\n",
    "\n",
    "we can write a boolean  statement using the True and False keyword\n",
    "\n",
    "eg monday= True\n",
    "   Sunday= False\n",
    "   \n",
    "   \n",
    "   if Monday:\n",
    "      print(\"no holiday\")\n",
    "   else:\n",
    "      print(\"holiday\")\n",
    "      \n",
    "      \n",
    "if the conditions are true then the above statemennts give no holiday as output and if condition is false it gives holiday as output"
   ]
  },
  {
   "cell_type": "raw",
   "metadata": {},
   "source": [
    "2. What are the three different types of Boolean operators?\n",
    "\n",
    "\n",
    "\n",
    "In Python, there are three different types of Boolean operators:\n",
    "\n",
    "1 Logical AND (and): This operator returns True if both of the operands are True, and False otherwise. For example:\n",
    "True and True  =True\n",
    "True and False = False\n",
    "False and True = False\n",
    "False and False = False\n",
    "\n",
    "2  Logical OR (or): This operator returns True if at least one of the operands is True, and False otherwise. For example:\n",
    "True or True  = True\n",
    "True or False  = True\n",
    "False or True  = true\n",
    "False or False  = False\n",
    "\n",
    "3 Logical NOT (not): This operator returns the opposite of the operand. If the operand is True, it returns False, and if the operand is False, it returns True. For example:\n",
    "not True  =False\n",
    "not False  = True"
   ]
  },
  {
   "cell_type": "raw",
   "metadata": {},
   "source": [
    "3. Make a list of each Boolean operator&#39;s truth tables (i.e. every possible combination of Boolean\n",
    "values for the operator and what it evaluate ).\n",
    "\n",
    "\n",
    "Logical AND operator (and):\n",
    "\n",
    "Operand 1\tOperand 2\t Result\n",
    "True\t      True\t      True\n",
    "True\t      False\t      False\n",
    "False\t      True\t      False\n",
    "False\t      False\t      False\n",
    "\n",
    "Logical OR operator (or):\n",
    "\n",
    "Operand 1\tOperand 2\tResult\n",
    "True\t     True\t     True\n",
    "True\t     False\t     True\n",
    "False\t     True\t     True\n",
    "False\t     False\t     False\n",
    "\n",
    "Logical NOT operator (not):\n",
    "\n",
    "Operand\tResult\n",
    "True\tFalse\n",
    "False\tTrue\n",
    "\n",
    "\n"
   ]
  }
 ],
 "metadata": {
  "kernelspec": {
   "display_name": "Python 3",
   "language": "python",
   "name": "python3"
  },
  "language_info": {
   "codemirror_mode": {
    "name": "ipython",
    "version": 3
   },
   "file_extension": ".py",
   "mimetype": "text/x-python",
   "name": "python",
   "nbconvert_exporter": "python",
   "pygments_lexer": "ipython3",
   "version": "3.7.4"
  }
 },
 "nbformat": 4,
 "nbformat_minor": 2
}
