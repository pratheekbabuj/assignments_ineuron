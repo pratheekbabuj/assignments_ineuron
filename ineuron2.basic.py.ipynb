{
 "cells": [
  {
   "cell_type": "code",
   "execution_count": null,
   "metadata": {},
   "outputs": [],
   "source": [
    "1.What are the two values of the Boolean data type? How do you write them?\n",
    "\n",
    "Ans.. The two values of boolean data type are 1. True and 2.False\n",
    "\n",
    "\n",
    "we can write a boolean  statement using the True and False keyword\n",
    "\n",
    "eg monday= True\n",
    "   Sunday= False\n",
    "   \n",
    "   \n",
    "   if Monday:\n",
    "      print(\"no holiday\")\n",
    "   else:\n",
    "      print(\"holiday\")\n",
    "      \n",
    "      \n",
    "if the conditions are true then the above statemennts give no holiday as output and if condition is false it gives holiday as output"
   ]
  },
  {
   "cell_type": "code",
   "execution_count": null,
   "metadata": {},
   "outputs": [],
   "source": [
    "2. What are the three different types of Boolean operators?\n",
    "\n",
    "\n",
    "\n",
    "In Python, there are three different types of Boolean operators:\n",
    "\n",
    "1 Logical AND (and): This operator returns True if both of the operands are True, and False otherwise. For example:\n",
    "True and True  =True\n",
    "True and False = False\n",
    "False and True = False\n",
    "False and False = False\n",
    "\n",
    "2  Logical OR (or): This operator returns True if at least one of the operands is True, and False otherwise. For example:\n",
    "True or True  = True\n",
    "True or False  = True\n",
    "False or True  = true\n",
    "False or False  = False\n",
    "\n",
    "3 Logical NOT (not): This operator returns the opposite of the operand. If the operand is True, it returns False, and if the operand is False, it returns True. For example:\n",
    "not True  =False\n",
    "not False  = True"
   ]
  },
  {
   "cell_type": "code",
   "execution_count": null,
   "metadata": {},
   "outputs": [],
   "source": [
    "3. Make a list of each Boolean operator&#39;s truth tables (i.e. every possible combination of Boolean\n",
    "values for the operator and what it evaluate ).\n",
    "\n",
    "\n",
    "Logical AND operator (and):\n",
    "\n",
    "Operand 1\tOperand 2\t Result\n",
    "True\t      True\t      True\n",
    "True\t      False\t      False\n",
    "False\t      True\t      False\n",
    "False\t      False\t      False\n",
    "\n",
    "Logical OR operator (or):\n",
    "\n",
    "Operand 1\tOperand 2\tResult\n",
    "True\t     True\t     True\n",
    "True\t     False\t     True\n",
    "False\t     True\t     True\n",
    "False\t     False\t     False\n",
    "\n",
    "Logical NOT operator (not):\n",
    "\n",
    "Operand\tResult\n",
    "True\tFalse\n",
    "False\tTrue\n",
    "\n",
    "\n"
   ]
  },
  {
   "cell_type": "code",
   "execution_count": null,
   "metadata": {},
   "outputs": [],
   "source": [
    "4. What are the values of the following expressions?\n",
    "(5 > 4) and (3 == 5) \n",
    "false\n",
    "\n",
    "not (5 > 4)\n",
    "ans false\n",
    "\n",
    "(5 > 4) or (3 == 5)\n",
    "true\n",
    "\n",
    "not ((5 > 4) or (3 == 5))\n",
    "false\n",
    "\n",
    "(True and True) and (True == False)\n",
    "ans= false\n",
    "\n",
    "(not False) or (not True) \n",
    "ans=true"
   ]
  },
  {
   "cell_type": "code",
   "execution_count": null,
   "metadata": {},
   "outputs": [],
   "source": [
    "5. What are the six comparison operators?\n",
    "\n",
    "\n",
    "1 Equal to (==): This operator returns True if the operands are equal, and False otherwise. \n",
    "2 Not equal to (!=): This operator returns True if the operands are not equal, and False otherwise.\n",
    "3 Greater than (>): This operator returns True if the left operand is greater than the right operand, and False otherwise. \n",
    "4 Less than (<): This operator returns True if the left operand is less than the right operand, and False otherwise.\n",
    "5 In Python, the >= operator is a comparison operator that returns True if the left operand is greater than or equal to the right operand, and False otherwise.\n",
    "6 In Python, the <= operator is a comparison operator that returns True if the left operand is less than or equal to the right operand, and False otherwise.\n"
   ]
  },
  {
   "cell_type": "code",
   "execution_count": null,
   "metadata": {},
   "outputs": [],
   "source": [
    "6. How do you tell the difference between the equal to and assignment operators?Describe a\n",
    "condition and when you would use one.\n",
    "\n",
    "\n",
    "equaal to operator gives a boolean output after comparing the variables whereas assignment operator is used to assign the value to the variable\n",
    "\n",
    "\n",
    "a=2   # assigning value to variable a\n",
    "b=21  # assigning value to variable b\n",
    "\n",
    "if(a==b):  #checking if a  is equal to b\n",
    "  print(\"both are same num\")\n",
    "else:\n",
    "  print(\"both are different number\")\n",
    "  \n",
    "  \n",
    "  \n",
    " \n",
    "\n"
   ]
  },
  {
   "cell_type": "code",
   "execution_count": null,
   "metadata": {},
   "outputs": [],
   "source": [
    "7. Identify the three blocks in this code:\n",
    "spam = 0\n",
    "if spam == 10:      # first block\n",
    "print(&#39;eggs&#39;)\n",
    "if spam &gt; 5:     # dsecond block\n",
    "print(&#39;bacon&#39;) \n",
    "else:               3 3rd block\n",
    "print(&#39;ham&#39;)\n",
    "print(&#39;spam&#39;)\n",
    "print(&#39;spam&#39;)"
   ]
  },
  {
   "cell_type": "code",
   "execution_count": null,
   "metadata": {},
   "outputs": [],
   "source": [
    "8. Write code that prints Hello if 1 is stored in spam, prints Howdy if 2 is stored in spam, and prints\n",
    "Greetings! if anything else is stored in spam.\n",
    "\n",
    "\n",
    "if spam == 1:\n",
    "    print('Hello')\n",
    "elif spam == 2:\n",
    "    print('Howdy')\n",
    "else:\n",
    "    print('Greetings!')"
   ]
  },
  {
   "cell_type": "code",
   "execution_count": null,
   "metadata": {},
   "outputs": [],
   "source": [
    "9.If your programme is stuck in an endless loop, what keys you’ll press?\n",
    "\n",
    "ctrl+c"
   ]
  },
  {
   "cell_type": "code",
   "execution_count": null,
   "metadata": {},
   "outputs": [],
   "source": [
    "10. How can you tell the difference between break and continue?\n",
    "\n",
    "\n",
    "break- break statement terminates the entire further iteration of the loop\n",
    "\n",
    "continue- terminates only the current iteration of the loop\n",
    "\n",
    "\n",
    "\n",
    "eg= for i in \"pratheek\":\n",
    "        if i==a:\n",
    "          break\n",
    "          \n",
    "          \n",
    "      for i in \"pratheek\":\n",
    "        if i==t:\n",
    "          continue"
   ]
  },
  {
   "cell_type": "code",
   "execution_count": null,
   "metadata": {},
   "outputs": [],
   "source": [
    "11. In a for loop, what is the difference between range(10), range(0, 10), and range(0, 10, 1)?\n",
    "\n",
    "\n",
    "the output remains same that is the number will be from 0-9 except 10,\n",
    "the differnce is how the arguments are passed in it."
   ]
  },
  {
   "cell_type": "code",
   "execution_count": null,
   "metadata": {},
   "outputs": [],
   "source": [
    "12. Write a short program that prints the numbers 1 to 10 using a for loop. Then write an equivalent\n",
    "program that prints the numbers 1 to 10 using a while loop.\n",
    "\n",
    "\n",
    "for i in range(1, 11):\n",
    "    print(i)\n",
    "    \n",
    "    \n",
    "    \n",
    "    \n",
    "i = 1\n",
    "while i <= 10:\n",
    "    print(i)\n",
    "    i += 1\n",
    "    "
   ]
  },
  {
   "cell_type": "code",
   "execution_count": null,
   "metadata": {},
   "outputs": [],
   "source": [
    "13. If you had a function named bacon() inside a module named spam, how would you call it after\n",
    "importing spam?\n",
    "\n",
    "from spam import bacon \n",
    "bacon()"
   ]
  },
  {
   "cell_type": "code",
   "execution_count": null,
   "metadata": {},
   "outputs": [],
   "source": []
  },
  {
   "cell_type": "code",
   "execution_count": null,
   "metadata": {},
   "outputs": [],
   "source": []
  },
  {
   "cell_type": "code",
   "execution_count": null,
   "metadata": {},
   "outputs": [],
   "source": []
  }
 ],
 "metadata": {
  "kernelspec": {
   "display_name": "Python 3",
   "language": "python",
   "name": "python3"
  }
 },
 "nbformat": 4,
 "nbformat_minor": 2
}
