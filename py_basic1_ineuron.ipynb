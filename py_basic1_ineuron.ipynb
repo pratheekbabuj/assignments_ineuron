{
 "cells": [
  {
   "cell_type": "raw",
   "metadata": {},
   "source": [
    "1. In the below elements which of them are values or an expression? eg:- values can be\n",
    "integer or string and expressions will be mathematical operators.\n",
    "*\n",
    "&#39;hello&#39;\n",
    "-87.8\n",
    "-\n",
    "/\n",
    "+\n",
    "6\n",
    "\n",
    "\n",
    "ANS:-  mathematical operators:- *,&,/,+,-\n",
    "       values=39,'hello',-87.8,6\n",
    "\n"
   ]
  },
  {
   "cell_type": "raw",
   "metadata": {},
   "source": [
    "2. What is the difference between string and variable?\n",
    "\n",
    "ans:- variable is a memory locations used to store values or information in python  wheras string is a inbuilt datatype in python that\n",
    "    would be stored in a variable\n",
    "    \n",
    "    eg:-   p=\"gold\"\n",
    "        \n",
    "        here p is variable and \"gold\" is the string datatype\n",
    "    "
   ]
  },
  {
   "cell_type": "raw",
   "metadata": {},
   "source": [
    "3. Describe three different data types.\n",
    "\n",
    "ans- the three data types in python are\n",
    "1. int- we can use int data type to represent integers\n",
    "eg a=10\n",
    "type(a) \n",
    "\n",
    "output=int\n",
    "\n",
    "2. float- we can use float data type to represent floating point values(decimal values)\n",
    "\n",
    "ex:- b=45.5\n",
    "type(b)\n",
    "\n",
    "output=float\n",
    "\n",
    "\n",
    "3.complex- we can use complex datatype to store complex number\n",
    "\n",
    "ex c=5+10j\n",
    "where 5 is the real part 10 is the imaginary part"
   ]
  },
  {
   "cell_type": "raw",
   "metadata": {},
   "source": [
    "4. What is an expression made up of? What do all expressions do?\n",
    "\n",
    "\n",
    "\n",
    "ans:-Expression in python can be made up of identifiers,operators and operands.\n",
    "    expression in python is a combination of operators and operands that is interpreted to produce some other value\n",
    "    \n",
    "    ex:a=10\n",
    "     b=5\n",
    "     a+b-5  #this is an expression"
   ]
  },
  {
   "cell_type": "raw",
   "metadata": {},
   "source": [
    "5. This assignment statements, like spam = 10. What is the difference between an\n",
    "expression and a statement?\n",
    "\n",
    "ans:- expression will produce a value and that can be passed into a function whereas statement does not produce a value\n",
    "    \n",
    "    eg: spam=10 does not produce a value"
   ]
  },
  {
   "cell_type": "raw",
   "metadata": {},
   "source": [
    "6. After running the following code, what does the variable bacon contain?\n",
    "bacon = 22\n",
    "bacon + 1\n",
    "\n",
    "ans= 23"
   ]
  },
  {
   "cell_type": "raw",
   "metadata": {},
   "source": [
    "7. What should the values of the following two terms be?\n",
    "\n",
    "1.'spam'+'spamspam'\n",
    "ouptut='spamspamspam'\n",
    "\n",
    "2.'spam'*3\n",
    "output='spamspamspam'\n",
    "  "
   ]
  },
  {
   "cell_type": "raw",
   "metadata": {},
   "source": [
    "8. Why is eggs a valid variable name while 100 is invalid?\n",
    "\n",
    "ans:- because variable name should not start with  a number"
   ]
  },
  {
   "cell_type": "raw",
   "metadata": {},
   "source": [
    "9. What three functions can be used to get the integer, floating-point number, or string\n",
    "version of a value?\n",
    "\n",
    "ans= int()\n",
    "     float()\n",
    "    str()"
   ]
  },
  {
   "cell_type": "raw",
   "metadata": {},
   "source": [
    "10. Why does this expression cause an error? How can you fix it?\n",
    "\"i have eaten\"+99+\"burritos\"\n",
    "\n",
    "ans: becausse we are trying to concatinate integer to a string so inorder to solve it we convert 99 into string format str(99)\n",
    "    \n",
    "    ex:\"i have eaten\"+str(99)+\"burritos\""
   ]
  },
  {
   "cell_type": "code",
   "execution_count": 6,
   "metadata": {},
   "outputs": [
    {
     "data": {
      "text/plain": [
       "'i have eaten99burritos'"
      ]
     },
     "execution_count": 6,
     "metadata": {},
     "output_type": "execute_result"
    }
   ],
   "source": [
    "\"i have eaten\"+str(99)+\"burritos\""
   ]
  },
  {
   "cell_type": "code",
   "execution_count": 7,
   "metadata": {},
   "outputs": [
    {
     "data": {
      "text/plain": [
       "'C:\\\\Users\\\\prath'"
      ]
     },
     "execution_count": 7,
     "metadata": {},
     "output_type": "execute_result"
    }
   ],
   "source": [
    "pwd()"
   ]
  },
  {
   "cell_type": "code",
   "execution_count": null,
   "metadata": {},
   "outputs": [],
   "source": []
  }
 ],
 "metadata": {
  "kernelspec": {
   "display_name": "Python 3",
   "language": "python",
   "name": "python3"
  },
  "language_info": {
   "codemirror_mode": {
    "name": "ipython",
    "version": 3
   },
   "file_extension": ".py",
   "mimetype": "text/x-python",
   "name": "python",
   "nbconvert_exporter": "python",
   "pygments_lexer": "ipython3",
   "version": "3.7.4"
  }
 },
 "nbformat": 4,
 "nbformat_minor": 2
}
