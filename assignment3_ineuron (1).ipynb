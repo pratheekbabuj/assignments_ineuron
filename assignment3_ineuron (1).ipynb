{
 "cells": [
  {
   "cell_type": "code",
   "execution_count": null,
   "metadata": {},
   "outputs": [],
   "source": [
    "#1. Why are functions advantageous to have in your programs?\n",
    "ans:  the advantages of functions are:\n",
    "       1 Reducing duplication of code.\n",
    "       2  Decomposing complex problems into simpler pieces.\n",
    "       3   Improving clarity of the code.\n",
    "       4   Reuse of code.\n",
    "       5   Information hiding."
   ]
  },
  {
   "cell_type": "code",
   "execution_count": null,
   "metadata": {},
   "outputs": [],
   "source": [
    "2. When does the code in a function run when it is specified or when it is called\n",
    "ans:the code in a function gets executed only when it is called"
   ]
  },
  {
   "cell_type": "code",
   "execution_count": null,
   "metadata": {},
   "outputs": [],
   "source": [
    "3. What statement creates a function?\n",
    "ans: def keyword is used to create a function"
   ]
  },
  {
   "cell_type": "code",
   "execution_count": null,
   "metadata": {},
   "outputs": [],
   "source": [
    "4. What is the difference between a function and a function call?\n",
    "ans:  function is a block of code that gets executed when it is called .\n",
    "      function call is an expression containing function name followed by function call operator():\n",
    "      eg: def addition(a,b):\n",
    "              return a+b       #function\n",
    "              \n",
    "              \n",
    "       addition(4,5)#function calling       "
   ]
  },
  {
   "cell_type": "code",
   "execution_count": null,
   "metadata": {},
   "outputs": [],
   "source": [
    "5. How many global scopes are there in a Python program? How many local scopes?\n",
    "ans:there is only one global python scope.This scope remains in existence until the program terminates and all its names are forgotten. Otherwise, the next time you were to run the program, the names would remember their values from the previous run.\n",
    "local scope depends on the number of functions in our program . there can be any number of local scope"
   ]
  },
  {
   "cell_type": "code",
   "execution_count": null,
   "metadata": {},
   "outputs": [],
   "source": [
    "6. What happens to variables in a local scope when the function call returns?\n",
    "When a function call returns, the local scope that was created for the function is destroyed, and any variables that were defined within that scope are no longer accessible. This is because the local scope is only in existence while the function is being executed, and it is destroyed when the function returns.\n"
   ]
  },
  {
   "cell_type": "code",
   "execution_count": null,
   "metadata": {},
   "outputs": [],
   "source": [
    "7. What is the concept of a return value? Is it possible to have a return value in an expression?\n",
    "ans:return value is a value that is returned when a function is called.\n",
    "yes it is possible to have a return value in an expression but not in loops and conditional statements\n"
   ]
  },
  {
   "cell_type": "code",
   "execution_count": null,
   "metadata": {},
   "outputs": [],
   "source": [
    "ex: def mult(a,b):\n",
    "      return a*b\n",
    "      \n",
    "      \n",
    "   res=mult(9,8)   \n",
    "        "
   ]
  },
  {
   "cell_type": "code",
   "execution_count": null,
   "metadata": {},
   "outputs": [],
   "source": [
    "8.If a function does not have a return statement, what is the return value of a call to that function?\n",
    "If a function does not have a return statement, the return value of a call to that function is None.\n",
    "\n",
    "In Python, None is a special value that represents the absence of a value or a null value. It is an object of its own type, called NoneType."
   ]
  },
  {
   "cell_type": "code",
   "execution_count": null,
   "metadata": {},
   "outputs": [],
   "source": [
    "9. How do you make a function variable refer to the global variable?\n",
    "using global keyword we can refer the function variable to global variable\n",
    "\n",
    "\n",
    "x=5\n",
    "\n",
    "def myfunc():\n",
    "   global x\n",
    "   x=3\n",
    "   print(x)\n"
   ]
  },
  {
   "cell_type": "code",
   "execution_count": null,
   "metadata": {},
   "outputs": [],
   "source": [
    "10. What is the data type of None?\n",
    "ans: data type of none is NoneType.\n"
   ]
  },
  {
   "cell_type": "code",
   "execution_count": null,
   "metadata": {},
   "outputs": [],
   "source": [
    "11. What does the sentence import areallyourpetsnamederic do?\n",
    "ans:it imports areallyourpetsnamederic"
   ]
  },
  {
   "cell_type": "code",
   "execution_count": null,
   "metadata": {},
   "outputs": [],
   "source": [
    "12. If you had a bacon() feature in a spam module, what would you call it after importing spam?\n",
    "from spam import bacon"
   ]
  },
  {
   "cell_type": "code",
   "execution_count": null,
   "metadata": {},
   "outputs": [],
   "source": [
    "13. What can you do to save a programme from crashing if it encounters an error?\n",
    "\n",
    "we can perform exceptional handling to overcome run time errors"
   ]
  },
  {
   "cell_type": "code",
   "execution_count": null,
   "metadata": {},
   "outputs": [],
   "source": [
    "14. What is the purpose of the try clause? What is the purpose of the except clause?\n",
    "The try clause in a Python program is used to define a block of code that may cause an error. The except clause is used to define a block of code that will be executed if an error occurs during the execution of the try cla\n",
    "\n"
   ]
  }
 ],
 "metadata": {
  "kernelspec": {
   "display_name": "Python 3",
   "language": "python",
   "name": "python3"
  },
  "language_info": {
   "codemirror_mode": {
    "name": "ipython",
    "version": 3
   },
   "file_extension": ".py",
   "mimetype": "text/x-python",
   "name": "python",
   "nbconvert_exporter": "python",
   "pygments_lexer": "ipython3",
   "version": "3.7.4"
  }
 },
 "nbformat": 4,
 "nbformat_minor": 2
}
