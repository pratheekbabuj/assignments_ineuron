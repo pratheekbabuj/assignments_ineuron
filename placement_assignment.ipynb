{
 "cells": [
  {
   "cell_type": "markdown",
   "metadata": {},
   "source": [
    "##  Write a program that takes a string as input, and counts the frequency of each word in the string, there might be repeated characters in the string. Your task is to find the highest frequency and returns the length of the highest-frequency word. Note - You have to write at least 2 additional test cases in which your program will run successfully and provide an explanation for the same. Example input - string = “write write write all the number from from from 1 to 100” Example output - 5 Explanation - From the given string we can note that the most frequent words are “write” and “from” and the maximum value of both the values is “write” and its corresponding length is 5"
   ]
  },
  {
   "cell_type": "code",
   "execution_count": 2,
   "metadata": {},
   "outputs": [
    {
     "name": "stdout",
     "output_type": "stream",
     "text": [
      "8\n",
      "8\n",
      "10\n"
     ]
    }
   ],
   "source": [
    "def get_length_of_highest_frequency_word(string):\n",
    "    # Split the string into words\n",
    "    words = string.split()\n",
    "\n",
    "    # Create a dictionary to store the frequency of each word\n",
    "    word_freq = {}\n",
    "\n",
    "    # Count the frequency of each word\n",
    "    for word in words:\n",
    "        if word in word_freq:\n",
    "            word_freq[word] += 1\n",
    "        else:\n",
    "            word_freq[word] = 1\n",
    "\n",
    "    # Find the maximum frequency\n",
    "    max_freq = max(word_freq.values())\n",
    "\n",
    "    # Find the length of the highest-frequency word\n",
    "    max_freq_word_length = max(len(word) for word, freq in word_freq.items() if freq == max_freq)\n",
    "\n",
    "    return max_freq_word_length\n",
    "\n",
    "# Test case 1\n",
    "string1 = \" pratheek is good boy\"\n",
    "print(get_length_of_highest_frequency_word(string1))  # Output: 5\n",
    "\n",
    "# Test case 2\n",
    "string2 = \"pratheek studies in ineuron\"\n",
    "print(get_length_of_highest_frequency_word(string2))  # Output: 6\n",
    "\n",
    "# Test case 3\n",
    "string3 = \"pratheek is data enthusiast\"\n",
    "print(get_length_of_highest_frequency_word(string3))  # Output: 5\n"
   ]
  },
  {
   "cell_type": "markdown",
   "metadata": {},
   "source": [
    "# Write a program to download the data from the link given below and then read the data and convert the into the proper structure and return it as a CSV file. Link - https://data.nasa.gov/resource/y77d-th95.json Note - Write code comments wherever needed for code understanding."
   ]
  },
  {
   "cell_type": "code",
   "execution_count": 6,
   "metadata": {},
   "outputs": [],
   "source": [
    "import requests\n",
    "req=requests.get(\" https://data.nasa.gov/resource/y77d-th95.json\")\n",
    "url_con= req.content\n",
    "csvf = open(\"downloded_csv\",\"wb\")\n",
    "csvf.write(url_con)\n",
    "csvf.close()"
   ]
  },
  {
   "cell_type": "markdown",
   "metadata": {},
   "source": [
    "# Write a program, which would download the data from the provided link, and then read the data and convert that into properly structured data and return it in Excel format. Note - Write comments wherever necessary explaining the code written.\n",
    "Link - https://raw.githubusercontent.com/Biuni/PokemonGO-Pokedex/master/pokedex.json"
   ]
  },
  {
   "cell_type": "code",
   "execution_count": null,
   "metadata": {},
   "outputs": [],
   "source": [
    "import requests\n",
    "import pandas as pd\n",
    "\n",
    "def download_data(url):\n",
    "    # Send a GET request to the URL to download the data\n",
    "    response = requests.get(url)\n",
    "\n",
    "    # Check if the request was successful\n",
    "    if response.status_code == 200:\n",
    "        return response.json()  # Return the JSON data\n",
    "    else:\n",
    "        raise Exception(\"Failed to download data from the provided URL\")\n",
    "\n",
    "def convert_to_excel(data, filename):\n",
    "    # Create a DataFrame from the data\n",
    "    df = pd.DataFrame(data)\n",
    "\n",
    "    # Save the DataFrame as an Excel file\n",
    "    df.to_excel(filename, index=False)\n",
    "\n",
    "    print(\"Excel file has been created successfully.\")\n",
    "\n",
    "# URL to download the data from\n",
    "url = \"https://raw.githubusercontent.com/Biuni/PokemonGO-Pokedex/master/pokedex.json\"\n",
    "\n",
    "# Download the data from the provided URL\n",
    "data = download_data(url)\n",
    "\n",
    "# Convert the data to an Excel file\n",
    "excel_filename = \"pokemon_data.xlsx\"\n",
    "convert_to_excel(data[\"pokemon\"], excel_filename)\n"
   ]
  },
  {
   "cell_type": "markdown",
   "metadata": {},
   "source": [
    "# Question 10 - Write a program to count the number of verbs, nouns, pronouns, and adjectives in a given particular phrase or paragraph, and return their respective count as a dictionary. Note - 1. Write code comments wherever required for code 2. You have to write at least 2 additional test cases in which your program will run successfully and provide an explanation for the same."
   ]
  },
  {
   "cell_type": "code",
   "execution_count": 7,
   "metadata": {},
   "outputs": [
    {
     "name": "stdout",
     "output_type": "stream",
     "text": [
      "{'verbs': 0, 'nouns': 1, 'pronouns': 0, 'adjectives': 1}\n",
      "{'verbs': 0, 'nouns': 1, 'pronouns': 0, 'adjectives': 0}\n",
      "{'verbs': 1, 'nouns': 3, 'pronouns': 0, 'adjectives': 0}\n"
     ]
    }
   ],
   "source": [
    "import spacy\n",
    "\n",
    "def count_pos_tags(phrase):\n",
    "    # Load the English language model in spaCy\n",
    "    nlp = spacy.load(\"en_core_web_sm\")\n",
    "\n",
    "    # Process the phrase with spaCy\n",
    "    doc = nlp(phrase)\n",
    "\n",
    "    # Initialize counters for verbs, nouns, pronouns, and adjectives\n",
    "    verb_count = 0\n",
    "    noun_count = 0\n",
    "    pronoun_count = 0\n",
    "    adjective_count = 0\n",
    "\n",
    "    # Iterate over each token in the processed document\n",
    "    for token in doc:\n",
    "        if token.pos_ == \"VERB\":\n",
    "            verb_count += 1\n",
    "        elif token.pos_ == \"NOUN\":\n",
    "            noun_count += 1\n",
    "        elif token.pos_ == \"PRON\":\n",
    "            pronoun_count += 1\n",
    "        elif token.pos_ == \"ADJ\":\n",
    "            adjective_count += 1\n",
    "\n",
    "    # Create a dictionary with the count of each part of speech\n",
    "    pos_count = {\n",
    "        \"verbs\": verb_count,\n",
    "        \"nouns\": noun_count,\n",
    "        \"pronouns\": pronoun_count,\n",
    "        \"adjectives\": adjective_count\n",
    "    }\n",
    "\n",
    "    return pos_count\n",
    "\n",
    "# Test case 1\n",
    "phrase1 = \"pratheek is quick.\"\n",
    "print(count_pos_tags(phrase1))  # Output: {'verbs': 1, 'nouns': 1, 'pronouns': 1, 'adjectives': 1}\n",
    "\n",
    "# Test case 2\n",
    "phrase2 = \"pratheek is a champion.\"\n",
    "print(count_pos_tags(phrase2))  # Output: {'verbs': 1, 'nouns': 2, 'pronouns': 0, 'adjectives': 2}\n",
    "\n",
    "# Test case 3\n",
    "phrase3 = \"pratheek learns data science.\"\n",
    "print(count_pos_tags(phrase3))  # Output: {'verbs': 1, 'nouns': 1, 'pronouns': 1, 'adjectives': 0}\n"
   ]
  },
  {
   "cell_type": "markdown",
   "metadata": {},
   "source": [
    "# Question 9 - Write a program to read the data from the following link, perform data analysis and answer the following questions Note - 1. Write code comments wherever required for code understanding Link - https://data.wa.gov/api/views/f6w7-q2d2/rows.csv?accessType=DOWNLOAD Insights to be drawn - ● Get all the cars and their types that do not qualify for clean alternative fuel vehicle ● Get all TESLA cars with the model year, and model type made in Bothell City. ● Get all the cars that have an electric range of more than 100, and were made after 2015 ● Draw plots to show the distribution between city and electric vehicle typ"
   ]
  },
  {
   "cell_type": "code",
   "execution_count": null,
   "metadata": {},
   "outputs": [],
   "source": [
    "import pandas as pd\n",
    "import matplotlib.pyplot as plt\n",
    "\n",
    "# Read the data from the CSV file\n",
    "url = \"https://data.wa.gov/api/views/f6w7-q2d2/rows.csv?accessType=DOWNLOAD\"\n",
    "data = pd.read_csv(url)\n",
    "\n",
    "# Question 1: Get all the cars and their types that do not qualify for clean alternative fuel vehicle\n",
    "non_clean_cars = data[data['Qualifies for Clean Alternative Fuel Vehicle?'] == 'No']\n",
    "non_clean_cars_info = non_clean_cars[['Make', 'Model']]\n",
    "print(\"Cars that do not qualify for clean alternative fuel vehicle:\")\n",
    "print(non_clean_cars_info)\n",
    "\n",
    "# Question 2: Get all TESLA cars with the model year, and model type made in Bothell City\n",
    "tesla_cars_bothell = data[(data['Make'] == 'TESLA') & (data['City'] == 'BOTHELL')]\n",
    "tesla_cars_info = tesla_cars_bothell[['Make', 'Model Year', 'Model']]\n",
    "print(\"\\nTESLA cars made in Bothell City:\")\n",
    "print(tesla_cars_info)\n",
    "\n",
    "# Question 3: Get all the cars that have an electric range of more than 100, and were made after 2015\n",
    "electric_cars_range_gt_100 = data[(data['Electric Range (FT1)'] > 100) & (data['Model Year'] > 2015)]\n",
    "electric_cars_info = electric_cars_range_gt_100[['Make', 'Model Year', 'Model']]\n",
    "print(\"\\nCars with electric range > 100 and made after 2015:\")\n",
    "print(electric_cars_info)\n",
    "\n",
    "# Draw a bar plot to show the distribution between city and electric vehicle type\n",
    "city_ev_type_counts = data.groupby(['City', 'Electric Vehicle Type']).size().unstack()\n",
    "city_ev_type_counts.plot(kind='bar', stacked=True, figsize=(10, 6))\n",
    "plt.xlabel('City')\n",
    "plt.ylabel('Count')\n",
    "plt.title('Distribution of City and Electric Vehicle Type')\n",
    "plt.legend(title='Electric Vehicle Type')\n",
    "plt.show()\n"
   ]
  },
  {
   "cell_type": "markdown",
   "metadata": {},
   "source": [
    "# Question 2: - Consider a string to be valid if all characters of the string appear the same number of times. It is also valid if he can remove just one character at the index in the string, and the remaining characters will occur the same number of times. Given a string, determine if it is valid. If so, return YES , otherwise return NO . Note - You have to write at least 2 additional test cases in which your program will run successfully and provide an explanation for the same. Example input 1 - s = “abc”. This is a valid string because frequencies are { “a”: 1, “b”: 1, “c”: 1 } Example output 1- YES Example input 2 - s “abcc”. This string is not valid as we can remove only 1 occurrence of “c”. That leaves character frequencies of { “a”: 1, “b”: 1 , “c”: 2 } Example output 2 - NO"
   ]
  },
  {
   "cell_type": "code",
   "execution_count": 12,
   "metadata": {},
   "outputs": [
    {
     "name": "stdout",
     "output_type": "stream",
     "text": [
      "True\n"
     ]
    }
   ],
   "source": [
    "from collections import Counter\n",
    "def checkForVariation(strr):\n",
    "   \n",
    "    freq = Counter(strr)\n",
    "     \n",
    "    # Converting these values to list\n",
    "    valuelist = list(freq.values())\n",
    "     \n",
    "    # Counting frequencies again\n",
    "    ValueCounter = Counter(valuelist)\n",
    "    if(len(ValueCounter) == 1):\n",
    "        return True\n",
    "    elif(len(ValueCounter) == 2 and\n",
    "         min(ValueCounter.values()) == 1):\n",
    "        return True\n",
    "       \n",
    "    # If no conditions satisfied return false\n",
    "    return False\n",
    " \n",
    "string = \"abcbca\"\n",
    " \n",
    "# passing string to checkForVariation Function\n",
    "print(checkForVariation(string))"
   ]
  },
  {
   "cell_type": "code",
   "execution_count": null,
   "metadata": {},
   "outputs": [],
   "source": []
  }
 ],
 "metadata": {
  "kernelspec": {
   "display_name": "Python 3",
   "language": "python",
   "name": "python3"
  },
  "language_info": {
   "codemirror_mode": {
    "name": "ipython",
    "version": 3
   },
   "file_extension": ".py",
   "mimetype": "text/x-python",
   "name": "python",
   "nbconvert_exporter": "python",
   "pygments_lexer": "ipython3",
   "version": "3.7.4"
  }
 },
 "nbformat": 4,
 "nbformat_minor": 2
}
