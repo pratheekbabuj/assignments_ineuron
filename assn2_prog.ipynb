{
 "cells": [
  {
   "cell_type": "code",
   "execution_count": null,
   "metadata": {},
   "outputs": [],
   "source": [
    "1.Write a Python program to convert kilometers to miles?"
   ]
  },
  {
   "cell_type": "code",
   "execution_count": 2,
   "metadata": {},
   "outputs": [
    {
     "name": "stdout",
     "output_type": "stream",
     "text": [
      "8 kilometers is equal to 4.97096 miles\n"
     ]
    }
   ],
   "source": [
    "def kmtom(km):\n",
    "    m=km*0.62137\n",
    "    return m\n",
    "\n",
    "km=8\n",
    "\n",
    "print(f\"{km} kilometers is equal to {kmtom(km)} miles\")"
   ]
  },
  {
   "cell_type": "code",
   "execution_count": null,
   "metadata": {},
   "outputs": [],
   "source": [
    "2.Write a Python program to convert Celsius to Fahrenheit?"
   ]
  },
  {
   "cell_type": "code",
   "execution_count": 3,
   "metadata": {},
   "outputs": [
    {
     "name": "stdout",
     "output_type": "stream",
     "text": [
      "100°C is equal to 212.0°F.\n"
     ]
    }
   ],
   "source": [
    "def celsius_to_fahrenheit(celsius):\n",
    "  fahrenheit = celsius * 1.8 + 32\n",
    "  return fahrenheit\n",
    "\n",
    "celsius = 100\n",
    "print(f\"{celsius}°C is equal to {celsius_to_fahrenheit(celsius)}°F.\")"
   ]
  },
  {
   "cell_type": "code",
   "execution_count": null,
   "metadata": {},
   "outputs": [],
   "source": [
    "3.Write a Python program to display calendar?\n"
   ]
  },
  {
   "cell_type": "code",
   "execution_count": 11,
   "metadata": {},
   "outputs": [
    {
     "name": "stdout",
     "output_type": "stream",
     "text": [
      "    January 2023\n",
      "Mo Tu We Th Fr Sa Su\n",
      "                   1\n",
      " 2  3  4  5  6  7  8\n",
      " 9 10 11 12 13 14 15\n",
      "16 17 18 19 20 21 22\n",
      "23 24 25 26 27 28 29\n",
      "30 31\n",
      "\n"
     ]
    }
   ],
   "source": [
    "import calendar\n",
    "\n",
    "year = 2023\n",
    "month = 1\n",
    "\n",
    "# Display the calendar\n",
    "print(calendar.month(year,month))\n"
   ]
  },
  {
   "cell_type": "code",
   "execution_count": null,
   "metadata": {},
   "outputs": [],
   "source": [
    "Write a Python program to swap two variables without temp variable?"
   ]
  },
  {
   "cell_type": "code",
   "execution_count": 13,
   "metadata": {},
   "outputs": [
    {
     "name": "stdout",
     "output_type": "stream",
     "text": [
      "8 5\n"
     ]
    }
   ],
   "source": [
    "a=5\n",
    "b=8\n",
    "a,b=b,a\n",
    "\n",
    "print(a,b)"
   ]
  },
  {
   "cell_type": "code",
   "execution_count": null,
   "metadata": {},
   "outputs": [],
   "source": [
    "4.Write a Python program to solve quadratic equation?"
   ]
  },
  {
   "cell_type": "code",
   "execution_count": null,
   "metadata": {},
   "outputs": [],
   "source": [
    "import cmath\n",
    "\n",
    "def solve_quadratic(a, b, c):\n",
    "  # Calculate the discriminant\n",
    "  discriminant = b**2 - 4*a*c\n",
    "\n",
    "  # Calculate the two roots\n",
    "  root1 = (-b + cmath.sqrt(discriminant)) / (2*a)\n",
    "  root2 = (-b - cmath.sqrt(discriminant)) / (2*a)\n",
    "\n",
    "  return root1, root2\n",
    "\n",
    "# Test the function with some sample values\n",
    "a = 1\n",
    "b = -3\n",
    "c = 2\n",
    "roots = solve_quadratic(a, b, c)\n",
    "print(f\"Roots of {a}x^2 + {b}x + {c} = 0:\")\n",
    "print(f\"x1 = {roots[0]:.2f}\")\n",
    "print(f\"x2 = {roots[1]:.2f}\")"
   ]
  }
 ],
 "metadata": {
  "kernelspec": {
   "display_name": "Python 3",
   "language": "python",
   "name": "python3"
  },
  "language_info": {
   "codemirror_mode": {
    "name": "ipython",
    "version": 3
   },
   "file_extension": ".py",
   "mimetype": "text/x-python",
   "name": "python",
   "nbconvert_exporter": "python",
   "pygments_lexer": "ipython3",
   "version": "3.7.4"
  }
 },
 "nbformat": 4,
 "nbformat_minor": 2
}
